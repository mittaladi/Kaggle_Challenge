{
 "cells": [
  {
   "cell_type": "markdown",
   "metadata": {},
   "source": [
    "# SML BONUS ASSIGNMENT"
   ]
  },
  {
   "cell_type": "markdown",
   "metadata": {},
   "source": [
    "## IMPORT LIBRARIES"
   ]
  },
  {
   "cell_type": "code",
   "execution_count": 146,
   "metadata": {},
   "outputs": [],
   "source": [
    "import numpy as np\n",
    "import sklearn\n",
    "import csv\n",
    "import os\n",
    "import cv2\n",
    "from skimage.feature import hog\n",
    "from skimage import feature\n",
    "from skimage.feature import hog\n",
    "import matplotlib.pyplot as plt\n",
    "from sklearn.model_selection import train_test_split\n",
    "from sklearn.linear_model import LogisticRegression\n",
    "from sklearn import naive_bayes as nb\n",
    "from sklearn.svm import SVC\n",
    "import pandas as pd "
   ]
  },
  {
   "cell_type": "markdown",
   "metadata": {},
   "source": [
    "### DEFINE PATH OF DATASET"
   ]
  },
  {
   "cell_type": "code",
   "execution_count": 82,
   "metadata": {},
   "outputs": [],
   "source": [
    "path = \"D:\\\\IIITD\\\\2nd Sem\\\\SML\\\\Assignments\\\\Bonus\\\\cse342-542-bonus\\\\bonus_dataset\""
   ]
  },
  {
   "cell_type": "markdown",
   "metadata": {},
   "source": [
    "### READ LABELS"
   ]
  },
  {
   "cell_type": "code",
   "execution_count": 85,
   "metadata": {},
   "outputs": [],
   "source": [
    "def read_label_dict():\n",
    "    data={}\n",
    "    with open(path + '\\\\sml_train.csv') as csvfile:\n",
    "        reader=csv.reader(csvfile, skipinitialspace=True, quotechar=\"'\")\n",
    "        for row in reader:\n",
    "            data[row[0]]=row[1:]\n",
    "    del data['Id']\n",
    "    return data"
   ]
  },
  {
   "cell_type": "code",
   "execution_count": 84,
   "metadata": {},
   "outputs": [],
   "source": [
    "def read_train_data():\n",
    "    images = []\n",
    "    filename_list = []\n",
    "    folder = path + \"\\\\sml_train\"\n",
    "    for filename in os.listdir(folder):\n",
    "        \n",
    "        img = cv2.imread(os.path.join(folder,filename))\n",
    "        img = cv2.cvtColor(img, cv2.COLOR_BGR2GRAY)\n",
    "        if img is not None:\n",
    "            images.append(img)\n",
    "            filename_list.append(filename)\n",
    "\n",
    "    return images,filename_list"
   ]
  },
  {
   "cell_type": "code",
   "execution_count": null,
   "metadata": {},
   "outputs": [],
   "source": []
  },
  {
   "cell_type": "code",
   "execution_count": 153,
   "metadata": {},
   "outputs": [],
   "source": [
    "def read_test_data():\n",
    "    images = []\n",
    "    filename_list =[]\n",
    "    folder = path + \"/sml_test\"\n",
    "    for filename in os.listdir(folder):\n",
    "        img = cv2.imread(os.path.join(folder,filename))\n",
    "        img = cv2.cvtColor(img, cv2.COLOR_BGR2GRAY)\n",
    "        if img is not None:\n",
    "            images.append(img)\n",
    "            filename_list.append(filename)\n",
    "    return images,filename_list"
   ]
  },
  {
   "cell_type": "code",
   "execution_count": 62,
   "metadata": {
    "scrolled": false
   },
   "outputs": [],
   "source": [
    "label_dict = read_label_dict()\n",
    "train_data,filename_list = read_train_data()"
   ]
  },
  {
   "cell_type": "code",
   "execution_count": 215,
   "metadata": {},
   "outputs": [],
   "source": [
    "test_data,filename_list_test = read_test_data()"
   ]
  },
  {
   "cell_type": "code",
   "execution_count": null,
   "metadata": {},
   "outputs": [],
   "source": []
  },
  {
   "cell_type": "code",
   "execution_count": 102,
   "metadata": {},
   "outputs": [],
   "source": [
    "label_list = []\n",
    "for i in filename_list:\n",
    "    label_list.append(data[i])"
   ]
  },
  {
   "cell_type": "code",
   "execution_count": 103,
   "metadata": {},
   "outputs": [],
   "source": [
    "label_list = np.array(label_list)"
   ]
  },
  {
   "cell_type": "code",
   "execution_count": 99,
   "metadata": {},
   "outputs": [
    {
     "data": {
      "text/plain": [
       "array(['13', '9', '0', ..., '13', '18', '19'], dtype='<U2')"
      ]
     },
     "execution_count": 99,
     "metadata": {},
     "output_type": "execute_result"
    }
   ],
   "source": [
    "label_list.flatten()"
   ]
  },
  {
   "cell_type": "code",
   "execution_count": 97,
   "metadata": {},
   "outputs": [],
   "source": [
    "label_list = label_list.T"
   ]
  },
  {
   "cell_type": "code",
   "execution_count": 104,
   "metadata": {},
   "outputs": [
    {
     "data": {
      "text/plain": [
       "(10000, 1)"
      ]
     },
     "execution_count": 104,
     "metadata": {},
     "output_type": "execute_result"
    }
   ],
   "source": [
    "label_list.shape"
   ]
  },
  {
   "cell_type": "code",
   "execution_count": 44,
   "metadata": {},
   "outputs": [
    {
     "name": "stdout",
     "output_type": "stream",
     "text": [
      "2\n",
      "10000\n",
      "1000\n"
     ]
    }
   ],
   "source": [
    "print(len(labels[0]))\n",
    "print(len(train_data))\n",
    "print(len(test_data))"
   ]
  },
  {
   "cell_type": "code",
   "execution_count": 105,
   "metadata": {
    "scrolled": true
   },
   "outputs": [
    {
     "name": "stderr",
     "output_type": "stream",
     "text": [
      "C:\\Users\\MitTal\\Anaconda3\\lib\\site-packages\\skimage\\feature\\_hog.py:150: skimage_deprecation: Default value of `block_norm`==`L1` is deprecated and will be changed to `L2-Hys` in v0.15. To supress this message specify explicitly the normalization method.\n",
      "  skimage_deprecation)\n"
     ]
    }
   ],
   "source": [
    "discrip = []\n",
    "for i in range(0,len(train_data)):\n",
    "    fd = hog(train_data[i])\n",
    "    discrip.append(fd)\n"
   ]
  },
  {
   "cell_type": "code",
   "execution_count": 112,
   "metadata": {},
   "outputs": [
    {
     "name": "stderr",
     "output_type": "stream",
     "text": [
      "C:\\Users\\MitTal\\Anaconda3\\lib\\site-packages\\skimage\\feature\\_hog.py:150: skimage_deprecation: Default value of `block_norm`==`L1` is deprecated and will be changed to `L2-Hys` in v0.15. To supress this message specify explicitly the normalization method.\n",
      "  skimage_deprecation)\n"
     ]
    }
   ],
   "source": [
    "discrip_test = []\n",
    "for i in range(0,len(test_data)):\n",
    "    fd = hog(test_data[i])\n",
    "    discrip_test.append(fd)"
   ]
  },
  {
   "cell_type": "code",
   "execution_count": 106,
   "metadata": {},
   "outputs": [],
   "source": [
    "x_train, x_test, y_train, y_test = train_test_split(\n",
    "        discrip, label_list, test_size=0.3, random_state=42)"
   ]
  },
  {
   "cell_type": "code",
   "execution_count": 107,
   "metadata": {},
   "outputs": [
    {
     "name": "stdout",
     "output_type": "stream",
     "text": [
      "7000\n",
      "3000\n",
      "7000\n",
      "3000\n"
     ]
    }
   ],
   "source": [
    "print(len(x_train))\n",
    "print(len(x_test))\n",
    "print(len(y_train))\n",
    "print(len(y_test))"
   ]
  },
  {
   "cell_type": "code",
   "execution_count": 145,
   "metadata": {
    "scrolled": true
   },
   "outputs": [
    {
     "name": "stderr",
     "output_type": "stream",
     "text": [
      "C:\\Users\\MitTal\\Anaconda3\\lib\\site-packages\\sklearn\\linear_model\\logistic.py:433: FutureWarning: Default solver will be changed to 'lbfgs' in 0.22. Specify a solver to silence this warning.\n",
      "  FutureWarning)\n",
      "C:\\Users\\MitTal\\Anaconda3\\lib\\site-packages\\sklearn\\utils\\validation.py:761: DataConversionWarning: A column-vector y was passed when a 1d array was expected. Please change the shape of y to (n_samples, ), for example using ravel().\n",
      "  y = column_or_1d(y, warn=True)\n",
      "C:\\Users\\MitTal\\Anaconda3\\lib\\site-packages\\sklearn\\linear_model\\logistic.py:460: FutureWarning: Default multi_class will be changed to 'auto' in 0.22. Specify the multi_class option to silence this warning.\n",
      "  \"this warning.\", FutureWarning)\n"
     ]
    },
    {
     "name": "stdout",
     "output_type": "stream",
     "text": [
      "accuracy for logistic regression 0.4056\n"
     ]
    }
   ],
   "source": [
    "logis_clf = LogisticRegression().fit(discrip , label_list)\n",
    "logis_acc = logis_clf.score(discrip , label_list)\n",
    "pred = logis_clf.predict(discrip_test)\n",
    "print('accuracy for logistic regression' , logis_acc)"
   ]
  },
  {
   "cell_type": "code",
   "execution_count": 201,
   "metadata": {},
   "outputs": [],
   "source": [
    "a = pred.tolist()"
   ]
  },
  {
   "cell_type": "code",
   "execution_count": 219,
   "metadata": {},
   "outputs": [
    {
     "name": "stdout",
     "output_type": "stream",
     "text": [
      "(1000,)\n",
      "['val_0.jpg' 'val_1.jpg' 'val_10.jpg' 'val_100.jpg' 'val_101.jpg'\n",
      " 'val_102.jpg' 'val_103.jpg' 'val_104.jpg' 'val_105.jpg' 'val_106.jpg'\n",
      " 'val_107.jpg' 'val_108.jpg' 'val_109.jpg' 'val_11.jpg' 'val_110.jpg'\n",
      " 'val_111.jpg' 'val_112.jpg' 'val_113.jpg' 'val_114.jpg' 'val_115.jpg'\n",
      " 'val_116.jpg' 'val_117.jpg' 'val_118.jpg' 'val_119.jpg' 'val_12.jpg'\n",
      " 'val_120.jpg' 'val_121.jpg' 'val_122.jpg' 'val_123.jpg' 'val_124.jpg'\n",
      " 'val_125.jpg' 'val_126.jpg' 'val_127.jpg' 'val_128.jpg' 'val_129.jpg'\n",
      " 'val_13.jpg' 'val_130.jpg' 'val_131.jpg' 'val_132.jpg' 'val_133.jpg'\n",
      " 'val_134.jpg' 'val_135.jpg' 'val_136.jpg' 'val_137.jpg' 'val_138.jpg'\n",
      " 'val_139.jpg' 'val_14.jpg' 'val_140.jpg' 'val_141.jpg' 'val_142.jpg'\n",
      " 'val_143.jpg' 'val_144.jpg' 'val_145.jpg' 'val_146.jpg' 'val_147.jpg'\n",
      " 'val_148.jpg' 'val_149.jpg' 'val_15.jpg' 'val_150.jpg' 'val_151.jpg'\n",
      " 'val_152.jpg' 'val_153.jpg' 'val_154.jpg' 'val_155.jpg' 'val_156.jpg'\n",
      " 'val_157.jpg' 'val_158.jpg' 'val_159.jpg' 'val_16.jpg' 'val_160.jpg'\n",
      " 'val_161.jpg' 'val_162.jpg' 'val_163.jpg' 'val_164.jpg' 'val_165.jpg'\n",
      " 'val_166.jpg' 'val_167.jpg' 'val_168.jpg' 'val_169.jpg' 'val_17.jpg'\n",
      " 'val_170.jpg' 'val_171.jpg' 'val_172.jpg' 'val_173.jpg' 'val_174.jpg'\n",
      " 'val_175.jpg' 'val_176.jpg' 'val_177.jpg' 'val_178.jpg' 'val_179.jpg'\n",
      " 'val_18.jpg' 'val_180.jpg' 'val_181.jpg' 'val_182.jpg' 'val_183.jpg'\n",
      " 'val_184.jpg' 'val_185.jpg' 'val_186.jpg' 'val_187.jpg' 'val_188.jpg'\n",
      " 'val_189.jpg' 'val_19.jpg' 'val_190.jpg' 'val_191.jpg' 'val_192.jpg'\n",
      " 'val_193.jpg' 'val_194.jpg' 'val_195.jpg' 'val_196.jpg' 'val_197.jpg'\n",
      " 'val_198.jpg' 'val_199.jpg' 'val_2.jpg' 'val_20.jpg' 'val_200.jpg'\n",
      " 'val_201.jpg' 'val_202.jpg' 'val_203.jpg' 'val_204.jpg' 'val_205.jpg'\n",
      " 'val_206.jpg' 'val_207.jpg' 'val_208.jpg' 'val_209.jpg' 'val_21.jpg'\n",
      " 'val_210.jpg' 'val_211.jpg' 'val_212.jpg' 'val_213.jpg' 'val_214.jpg'\n",
      " 'val_215.jpg' 'val_216.jpg' 'val_217.jpg' 'val_218.jpg' 'val_219.jpg'\n",
      " 'val_22.jpg' 'val_220.jpg' 'val_221.jpg' 'val_222.jpg' 'val_223.jpg'\n",
      " 'val_224.jpg' 'val_225.jpg' 'val_226.jpg' 'val_227.jpg' 'val_228.jpg'\n",
      " 'val_229.jpg' 'val_23.jpg' 'val_230.jpg' 'val_231.jpg' 'val_232.jpg'\n",
      " 'val_233.jpg' 'val_234.jpg' 'val_235.jpg' 'val_236.jpg' 'val_237.jpg'\n",
      " 'val_238.jpg' 'val_239.jpg' 'val_24.jpg' 'val_240.jpg' 'val_241.jpg'\n",
      " 'val_242.jpg' 'val_243.jpg' 'val_244.jpg' 'val_245.jpg' 'val_246.jpg'\n",
      " 'val_247.jpg' 'val_248.jpg' 'val_249.jpg' 'val_25.jpg' 'val_250.jpg'\n",
      " 'val_251.jpg' 'val_252.jpg' 'val_253.jpg' 'val_254.jpg' 'val_255.jpg'\n",
      " 'val_256.jpg' 'val_257.jpg' 'val_258.jpg' 'val_259.jpg' 'val_26.jpg'\n",
      " 'val_260.jpg' 'val_261.jpg' 'val_262.jpg' 'val_263.jpg' 'val_264.jpg'\n",
      " 'val_265.jpg' 'val_266.jpg' 'val_267.jpg' 'val_268.jpg' 'val_269.jpg'\n",
      " 'val_27.jpg' 'val_270.jpg' 'val_271.jpg' 'val_272.jpg' 'val_273.jpg'\n",
      " 'val_274.jpg' 'val_275.jpg' 'val_276.jpg' 'val_277.jpg' 'val_278.jpg'\n",
      " 'val_279.jpg' 'val_28.jpg' 'val_280.jpg' 'val_281.jpg' 'val_282.jpg'\n",
      " 'val_283.jpg' 'val_284.jpg' 'val_285.jpg' 'val_286.jpg' 'val_287.jpg'\n",
      " 'val_288.jpg' 'val_289.jpg' 'val_29.jpg' 'val_290.jpg' 'val_291.jpg'\n",
      " 'val_292.jpg' 'val_293.jpg' 'val_294.jpg' 'val_295.jpg' 'val_296.jpg'\n",
      " 'val_297.jpg' 'val_298.jpg' 'val_299.jpg' 'val_3.jpg' 'val_30.jpg'\n",
      " 'val_300.jpg' 'val_301.jpg' 'val_302.jpg' 'val_303.jpg' 'val_304.jpg'\n",
      " 'val_305.jpg' 'val_306.jpg' 'val_307.jpg' 'val_308.jpg' 'val_309.jpg'\n",
      " 'val_31.jpg' 'val_310.jpg' 'val_311.jpg' 'val_312.jpg' 'val_313.jpg'\n",
      " 'val_314.jpg' 'val_315.jpg' 'val_316.jpg' 'val_317.jpg' 'val_318.jpg'\n",
      " 'val_319.jpg' 'val_32.jpg' 'val_320.jpg' 'val_321.jpg' 'val_322.jpg'\n",
      " 'val_323.jpg' 'val_324.jpg' 'val_325.jpg' 'val_326.jpg' 'val_327.jpg'\n",
      " 'val_328.jpg' 'val_329.jpg' 'val_33.jpg' 'val_330.jpg' 'val_331.jpg'\n",
      " 'val_332.jpg' 'val_333.jpg' 'val_334.jpg' 'val_335.jpg' 'val_336.jpg'\n",
      " 'val_337.jpg' 'val_338.jpg' 'val_339.jpg' 'val_34.jpg' 'val_340.jpg'\n",
      " 'val_341.jpg' 'val_342.jpg' 'val_343.jpg' 'val_344.jpg' 'val_345.jpg'\n",
      " 'val_346.jpg' 'val_347.jpg' 'val_348.jpg' 'val_349.jpg' 'val_35.jpg'\n",
      " 'val_350.jpg' 'val_351.jpg' 'val_352.jpg' 'val_353.jpg' 'val_354.jpg'\n",
      " 'val_355.jpg' 'val_356.jpg' 'val_357.jpg' 'val_358.jpg' 'val_359.jpg'\n",
      " 'val_36.jpg' 'val_360.jpg' 'val_361.jpg' 'val_362.jpg' 'val_363.jpg'\n",
      " 'val_364.jpg' 'val_365.jpg' 'val_366.jpg' 'val_367.jpg' 'val_368.jpg'\n",
      " 'val_369.jpg' 'val_37.jpg' 'val_370.jpg' 'val_371.jpg' 'val_372.jpg'\n",
      " 'val_373.jpg' 'val_374.jpg' 'val_375.jpg' 'val_376.jpg' 'val_377.jpg'\n",
      " 'val_378.jpg' 'val_379.jpg' 'val_38.jpg' 'val_380.jpg' 'val_381.jpg'\n",
      " 'val_382.jpg' 'val_383.jpg' 'val_384.jpg' 'val_385.jpg' 'val_386.jpg'\n",
      " 'val_387.jpg' 'val_388.jpg' 'val_389.jpg' 'val_39.jpg' 'val_390.jpg'\n",
      " 'val_391.jpg' 'val_392.jpg' 'val_393.jpg' 'val_394.jpg' 'val_395.jpg'\n",
      " 'val_396.jpg' 'val_397.jpg' 'val_398.jpg' 'val_399.jpg' 'val_4.jpg'\n",
      " 'val_40.jpg' 'val_400.jpg' 'val_401.jpg' 'val_402.jpg' 'val_403.jpg'\n",
      " 'val_404.jpg' 'val_405.jpg' 'val_406.jpg' 'val_407.jpg' 'val_408.jpg'\n",
      " 'val_409.jpg' 'val_41.jpg' 'val_410.jpg' 'val_411.jpg' 'val_412.jpg'\n",
      " 'val_413.jpg' 'val_414.jpg' 'val_415.jpg' 'val_416.jpg' 'val_417.jpg'\n",
      " 'val_418.jpg' 'val_419.jpg' 'val_42.jpg' 'val_420.jpg' 'val_421.jpg'\n",
      " 'val_422.jpg' 'val_423.jpg' 'val_424.jpg' 'val_425.jpg' 'val_426.jpg'\n",
      " 'val_427.jpg' 'val_428.jpg' 'val_429.jpg' 'val_43.jpg' 'val_430.jpg'\n",
      " 'val_431.jpg' 'val_432.jpg' 'val_433.jpg' 'val_434.jpg' 'val_435.jpg'\n",
      " 'val_436.jpg' 'val_437.jpg' 'val_438.jpg' 'val_439.jpg' 'val_44.jpg'\n",
      " 'val_440.jpg' 'val_441.jpg' 'val_442.jpg' 'val_443.jpg' 'val_444.jpg'\n",
      " 'val_445.jpg' 'val_446.jpg' 'val_447.jpg' 'val_448.jpg' 'val_449.jpg'\n",
      " 'val_45.jpg' 'val_450.jpg' 'val_451.jpg' 'val_452.jpg' 'val_453.jpg'\n",
      " 'val_454.jpg' 'val_455.jpg' 'val_456.jpg' 'val_457.jpg' 'val_458.jpg'\n",
      " 'val_459.jpg' 'val_46.jpg' 'val_460.jpg' 'val_461.jpg' 'val_462.jpg'\n",
      " 'val_463.jpg' 'val_464.jpg' 'val_465.jpg' 'val_466.jpg' 'val_467.jpg'\n",
      " 'val_468.jpg' 'val_469.jpg' 'val_47.jpg' 'val_470.jpg' 'val_471.jpg'\n",
      " 'val_472.jpg' 'val_473.jpg' 'val_474.jpg' 'val_475.jpg' 'val_476.jpg'\n",
      " 'val_477.jpg' 'val_478.jpg' 'val_479.jpg' 'val_48.jpg' 'val_480.jpg'\n",
      " 'val_481.jpg' 'val_482.jpg' 'val_483.jpg' 'val_484.jpg' 'val_485.jpg'\n",
      " 'val_486.jpg' 'val_487.jpg' 'val_488.jpg' 'val_489.jpg' 'val_49.jpg'\n",
      " 'val_490.jpg' 'val_491.jpg' 'val_492.jpg' 'val_493.jpg' 'val_494.jpg'\n",
      " 'val_495.jpg' 'val_496.jpg' 'val_497.jpg' 'val_498.jpg' 'val_499.jpg'\n",
      " 'val_5.jpg' 'val_50.jpg' 'val_500.jpg' 'val_501.jpg' 'val_502.jpg'\n",
      " 'val_503.jpg' 'val_504.jpg' 'val_505.jpg' 'val_506.jpg' 'val_507.jpg'\n",
      " 'val_508.jpg' 'val_509.jpg' 'val_51.jpg' 'val_510.jpg' 'val_511.jpg'\n",
      " 'val_512.jpg' 'val_513.jpg' 'val_514.jpg' 'val_515.jpg' 'val_516.jpg'\n",
      " 'val_517.jpg' 'val_518.jpg' 'val_519.jpg' 'val_52.jpg' 'val_520.jpg'\n",
      " 'val_521.jpg' 'val_522.jpg' 'val_523.jpg' 'val_524.jpg' 'val_525.jpg'\n",
      " 'val_526.jpg' 'val_527.jpg' 'val_528.jpg' 'val_529.jpg' 'val_53.jpg'\n",
      " 'val_530.jpg' 'val_531.jpg' 'val_532.jpg' 'val_533.jpg' 'val_534.jpg'\n",
      " 'val_535.jpg' 'val_536.jpg' 'val_537.jpg' 'val_538.jpg' 'val_539.jpg'\n",
      " 'val_54.jpg' 'val_540.jpg' 'val_541.jpg' 'val_542.jpg' 'val_543.jpg'\n",
      " 'val_544.jpg' 'val_545.jpg' 'val_546.jpg' 'val_547.jpg' 'val_548.jpg'\n",
      " 'val_549.jpg' 'val_55.jpg' 'val_550.jpg' 'val_551.jpg' 'val_552.jpg'\n",
      " 'val_553.jpg' 'val_554.jpg' 'val_555.jpg' 'val_556.jpg' 'val_557.jpg'\n",
      " 'val_558.jpg' 'val_559.jpg' 'val_56.jpg' 'val_560.jpg' 'val_561.jpg'\n",
      " 'val_562.jpg' 'val_563.jpg' 'val_564.jpg' 'val_565.jpg' 'val_566.jpg'\n",
      " 'val_567.jpg' 'val_568.jpg' 'val_569.jpg' 'val_57.jpg' 'val_570.jpg'\n",
      " 'val_571.jpg' 'val_572.jpg' 'val_573.jpg' 'val_574.jpg' 'val_575.jpg'\n",
      " 'val_576.jpg' 'val_577.jpg' 'val_578.jpg' 'val_579.jpg' 'val_58.jpg'\n",
      " 'val_580.jpg' 'val_581.jpg' 'val_582.jpg' 'val_583.jpg' 'val_584.jpg'\n",
      " 'val_585.jpg' 'val_586.jpg' 'val_587.jpg' 'val_588.jpg' 'val_589.jpg'\n",
      " 'val_59.jpg' 'val_590.jpg' 'val_591.jpg' 'val_592.jpg' 'val_593.jpg'\n",
      " 'val_594.jpg' 'val_595.jpg' 'val_596.jpg' 'val_597.jpg' 'val_598.jpg'\n",
      " 'val_599.jpg' 'val_6.jpg' 'val_60.jpg' 'val_600.jpg' 'val_601.jpg'\n",
      " 'val_602.jpg' 'val_603.jpg' 'val_604.jpg' 'val_605.jpg' 'val_606.jpg'\n",
      " 'val_607.jpg' 'val_608.jpg' 'val_609.jpg' 'val_61.jpg' 'val_610.jpg'\n",
      " 'val_611.jpg' 'val_612.jpg' 'val_613.jpg' 'val_614.jpg' 'val_615.jpg'\n",
      " 'val_616.jpg' 'val_617.jpg' 'val_618.jpg' 'val_619.jpg' 'val_62.jpg'\n",
      " 'val_620.jpg' 'val_621.jpg' 'val_622.jpg' 'val_623.jpg' 'val_624.jpg'\n",
      " 'val_625.jpg' 'val_626.jpg' 'val_627.jpg' 'val_628.jpg' 'val_629.jpg'\n",
      " 'val_63.jpg' 'val_630.jpg' 'val_631.jpg' 'val_632.jpg' 'val_633.jpg'\n",
      " 'val_634.jpg' 'val_635.jpg' 'val_636.jpg' 'val_637.jpg' 'val_638.jpg'\n",
      " 'val_639.jpg' 'val_64.jpg' 'val_640.jpg' 'val_641.jpg' 'val_642.jpg'\n",
      " 'val_643.jpg' 'val_644.jpg' 'val_645.jpg' 'val_646.jpg' 'val_647.jpg'\n",
      " 'val_648.jpg' 'val_649.jpg' 'val_65.jpg' 'val_650.jpg' 'val_651.jpg'\n",
      " 'val_652.jpg' 'val_653.jpg' 'val_654.jpg' 'val_655.jpg' 'val_656.jpg'\n",
      " 'val_657.jpg' 'val_658.jpg' 'val_659.jpg' 'val_66.jpg' 'val_660.jpg'\n",
      " 'val_661.jpg' 'val_662.jpg' 'val_663.jpg' 'val_664.jpg' 'val_665.jpg'\n",
      " 'val_666.jpg' 'val_667.jpg' 'val_668.jpg' 'val_669.jpg' 'val_67.jpg'\n",
      " 'val_670.jpg' 'val_671.jpg' 'val_672.jpg' 'val_673.jpg' 'val_674.jpg'\n",
      " 'val_675.jpg' 'val_676.jpg' 'val_677.jpg' 'val_678.jpg' 'val_679.jpg'\n",
      " 'val_68.jpg' 'val_680.jpg' 'val_681.jpg' 'val_682.jpg' 'val_683.jpg'\n",
      " 'val_684.jpg' 'val_685.jpg' 'val_686.jpg' 'val_687.jpg' 'val_688.jpg'\n",
      " 'val_689.jpg' 'val_69.jpg' 'val_690.jpg' 'val_691.jpg' 'val_692.jpg'\n",
      " 'val_693.jpg' 'val_694.jpg' 'val_695.jpg' 'val_696.jpg' 'val_697.jpg'\n",
      " 'val_698.jpg' 'val_699.jpg' 'val_7.jpg' 'val_70.jpg' 'val_700.jpg'\n",
      " 'val_701.jpg' 'val_702.jpg' 'val_703.jpg' 'val_704.jpg' 'val_705.jpg'\n",
      " 'val_706.jpg' 'val_707.jpg' 'val_708.jpg' 'val_709.jpg' 'val_71.jpg'\n",
      " 'val_710.jpg' 'val_711.jpg' 'val_712.jpg' 'val_713.jpg' 'val_714.jpg'\n",
      " 'val_715.jpg' 'val_716.jpg' 'val_717.jpg' 'val_718.jpg' 'val_719.jpg'\n",
      " 'val_72.jpg' 'val_720.jpg' 'val_721.jpg' 'val_722.jpg' 'val_723.jpg'\n",
      " 'val_724.jpg' 'val_725.jpg' 'val_726.jpg' 'val_727.jpg' 'val_728.jpg'\n",
      " 'val_729.jpg' 'val_73.jpg' 'val_730.jpg' 'val_731.jpg' 'val_732.jpg'\n",
      " 'val_733.jpg' 'val_734.jpg' 'val_735.jpg' 'val_736.jpg' 'val_737.jpg'\n",
      " 'val_738.jpg' 'val_739.jpg' 'val_74.jpg' 'val_740.jpg' 'val_741.jpg'\n",
      " 'val_742.jpg' 'val_743.jpg' 'val_744.jpg' 'val_745.jpg' 'val_746.jpg'\n",
      " 'val_747.jpg' 'val_748.jpg' 'val_749.jpg' 'val_75.jpg' 'val_750.jpg'\n",
      " 'val_751.jpg' 'val_752.jpg' 'val_753.jpg' 'val_754.jpg' 'val_755.jpg'\n",
      " 'val_756.jpg' 'val_757.jpg' 'val_758.jpg' 'val_759.jpg' 'val_76.jpg'\n",
      " 'val_760.jpg' 'val_761.jpg' 'val_762.jpg' 'val_763.jpg' 'val_764.jpg'\n",
      " 'val_765.jpg' 'val_766.jpg' 'val_767.jpg' 'val_768.jpg' 'val_769.jpg'\n",
      " 'val_77.jpg' 'val_770.jpg' 'val_771.jpg' 'val_772.jpg' 'val_773.jpg'\n",
      " 'val_774.jpg' 'val_775.jpg' 'val_776.jpg' 'val_777.jpg' 'val_778.jpg'\n",
      " 'val_779.jpg' 'val_78.jpg' 'val_780.jpg' 'val_781.jpg' 'val_782.jpg'\n",
      " 'val_783.jpg' 'val_784.jpg' 'val_785.jpg' 'val_786.jpg' 'val_787.jpg'\n",
      " 'val_788.jpg' 'val_789.jpg' 'val_79.jpg' 'val_790.jpg' 'val_791.jpg'\n",
      " 'val_792.jpg' 'val_793.jpg' 'val_794.jpg' 'val_795.jpg' 'val_796.jpg'\n",
      " 'val_797.jpg' 'val_798.jpg' 'val_799.jpg' 'val_8.jpg' 'val_80.jpg'\n",
      " 'val_800.jpg' 'val_801.jpg' 'val_802.jpg' 'val_803.jpg' 'val_804.jpg'\n",
      " 'val_805.jpg' 'val_806.jpg' 'val_807.jpg' 'val_808.jpg' 'val_809.jpg'\n",
      " 'val_81.jpg' 'val_810.jpg' 'val_811.jpg' 'val_812.jpg' 'val_813.jpg'\n",
      " 'val_814.jpg' 'val_815.jpg' 'val_816.jpg' 'val_817.jpg' 'val_818.jpg'\n",
      " 'val_819.jpg' 'val_82.jpg' 'val_820.jpg' 'val_821.jpg' 'val_822.jpg'\n",
      " 'val_823.jpg' 'val_824.jpg' 'val_825.jpg' 'val_826.jpg' 'val_827.jpg'\n",
      " 'val_828.jpg' 'val_829.jpg' 'val_83.jpg' 'val_830.jpg' 'val_831.jpg'\n",
      " 'val_832.jpg' 'val_833.jpg' 'val_834.jpg' 'val_835.jpg' 'val_836.jpg'\n",
      " 'val_837.jpg' 'val_838.jpg' 'val_839.jpg' 'val_84.jpg' 'val_840.jpg'\n",
      " 'val_841.jpg' 'val_842.jpg' 'val_843.jpg' 'val_844.jpg' 'val_845.jpg'\n",
      " 'val_846.jpg' 'val_847.jpg' 'val_848.jpg' 'val_849.jpg' 'val_85.jpg'\n",
      " 'val_850.jpg' 'val_851.jpg' 'val_852.jpg' 'val_853.jpg' 'val_854.jpg'\n",
      " 'val_855.jpg' 'val_856.jpg' 'val_857.jpg' 'val_858.jpg' 'val_859.jpg'\n",
      " 'val_86.jpg' 'val_860.jpg' 'val_861.jpg' 'val_862.jpg' 'val_863.jpg'\n",
      " 'val_864.jpg' 'val_865.jpg' 'val_866.jpg' 'val_867.jpg' 'val_868.jpg'\n",
      " 'val_869.jpg' 'val_87.jpg' 'val_870.jpg' 'val_871.jpg' 'val_872.jpg'\n",
      " 'val_873.jpg' 'val_874.jpg' 'val_875.jpg' 'val_876.jpg' 'val_877.jpg'\n",
      " 'val_878.jpg' 'val_879.jpg' 'val_88.jpg' 'val_880.jpg' 'val_881.jpg'\n",
      " 'val_882.jpg' 'val_883.jpg' 'val_884.jpg' 'val_885.jpg' 'val_886.jpg'\n",
      " 'val_887.jpg' 'val_888.jpg' 'val_889.jpg' 'val_89.jpg' 'val_890.jpg'\n",
      " 'val_891.jpg' 'val_892.jpg' 'val_893.jpg' 'val_894.jpg' 'val_895.jpg'\n",
      " 'val_896.jpg' 'val_897.jpg' 'val_898.jpg' 'val_899.jpg' 'val_9.jpg'\n",
      " 'val_90.jpg' 'val_900.jpg' 'val_901.jpg' 'val_902.jpg' 'val_903.jpg'\n",
      " 'val_904.jpg' 'val_905.jpg' 'val_906.jpg' 'val_907.jpg' 'val_908.jpg'\n",
      " 'val_909.jpg' 'val_91.jpg' 'val_910.jpg' 'val_911.jpg' 'val_912.jpg'\n",
      " 'val_913.jpg' 'val_914.jpg' 'val_915.jpg' 'val_916.jpg' 'val_917.jpg'\n",
      " 'val_918.jpg' 'val_919.jpg' 'val_92.jpg' 'val_920.jpg' 'val_921.jpg'\n",
      " 'val_922.jpg' 'val_923.jpg' 'val_924.jpg' 'val_925.jpg' 'val_926.jpg'\n",
      " 'val_927.jpg' 'val_928.jpg' 'val_929.jpg' 'val_93.jpg' 'val_930.jpg'\n",
      " 'val_931.jpg' 'val_932.jpg' 'val_933.jpg' 'val_934.jpg' 'val_935.jpg'\n",
      " 'val_936.jpg' 'val_937.jpg' 'val_938.jpg' 'val_939.jpg' 'val_94.jpg'\n",
      " 'val_940.jpg' 'val_941.jpg' 'val_942.jpg' 'val_943.jpg' 'val_944.jpg'\n",
      " 'val_945.jpg' 'val_946.jpg' 'val_947.jpg' 'val_948.jpg' 'val_949.jpg'\n",
      " 'val_95.jpg' 'val_950.jpg' 'val_951.jpg' 'val_952.jpg' 'val_953.jpg'\n",
      " 'val_954.jpg' 'val_955.jpg' 'val_956.jpg' 'val_957.jpg' 'val_958.jpg'\n",
      " 'val_959.jpg' 'val_96.jpg' 'val_960.jpg' 'val_961.jpg' 'val_962.jpg'\n",
      " 'val_963.jpg' 'val_964.jpg' 'val_965.jpg' 'val_966.jpg' 'val_967.jpg'\n",
      " 'val_968.jpg' 'val_969.jpg' 'val_97.jpg' 'val_970.jpg' 'val_971.jpg'\n",
      " 'val_972.jpg' 'val_973.jpg' 'val_974.jpg' 'val_975.jpg' 'val_976.jpg'\n",
      " 'val_977.jpg' 'val_978.jpg' 'val_979.jpg' 'val_98.jpg' 'val_980.jpg'\n",
      " 'val_981.jpg' 'val_982.jpg' 'val_983.jpg' 'val_984.jpg' 'val_985.jpg'\n",
      " 'val_986.jpg' 'val_987.jpg' 'val_988.jpg' 'val_989.jpg' 'val_99.jpg'\n",
      " 'val_990.jpg' 'val_991.jpg' 'val_992.jpg' 'val_993.jpg' 'val_994.jpg'\n",
      " 'val_995.jpg' 'val_996.jpg' 'val_997.jpg' 'val_998.jpg' 'val_999.jpg']\n"
     ]
    }
   ],
   "source": [
    "len(filename_list_test)\n",
    "a = np.array(filename_list_test)\n",
    "print(a.shape)\n",
    "print(a)"
   ]
  },
  {
   "cell_type": "code",
   "execution_count": 223,
   "metadata": {
    "scrolled": true
   },
   "outputs": [
    {
     "data": {
      "text/plain": [
       "array([['val_0.jpg', '19'],\n",
       "       ['val_1.jpg', '16'],\n",
       "       ['val_10.jpg', '16'],\n",
       "       ...,\n",
       "       ['val_997.jpg', '1'],\n",
       "       ['val_998.jpg', '10'],\n",
       "       ['val_999.jpg', '14']], dtype='<U11')"
      ]
     },
     "execution_count": 223,
     "metadata": {},
     "output_type": "execute_result"
    }
   ],
   "source": [
    "combined = np.vstack((a, pred)).T"
   ]
  },
  {
   "cell_type": "code",
   "execution_count": 231,
   "metadata": {},
   "outputs": [
    {
     "name": "stdout",
     "output_type": "stream",
     "text": [
      "<class 'list'>\n"
     ]
    }
   ],
   "source": [
    "aa = combined.tolist()\n",
    "print(type(aa))"
   ]
  },
  {
   "cell_type": "code",
   "execution_count": 232,
   "metadata": {
    "scrolled": true
   },
   "outputs": [],
   "source": [
    "df = pd.DataFrame(combined)\n",
    "#df.columns = ['m1', 'm2', 'm3']\n",
    "#df.index = ['seq1', 'seq2']\n",
    "df.to_csv(\"output.csv\", )"
   ]
  },
  {
   "cell_type": "code",
   "execution_count": 109,
   "metadata": {},
   "outputs": [
    {
     "name": "stderr",
     "output_type": "stream",
     "text": [
      "C:\\Users\\MitTal\\Anaconda3\\lib\\site-packages\\sklearn\\utils\\validation.py:761: DataConversionWarning: A column-vector y was passed when a 1d array was expected. Please change the shape of y to (n_samples, ), for example using ravel().\n",
      "  y = column_or_1d(y, warn=True)\n"
     ]
    },
    {
     "name": "stdout",
     "output_type": "stream",
     "text": [
      "accuracy for naive bayes 0.28\n"
     ]
    }
   ],
   "source": [
    "naive_clf = nb.GaussianNB().fit(x_train,y_train)\n",
    "naive_acc = naive_clf.score(x_test,y_test)\n",
    "print('accuracy for naive bayes' , naive_acc)"
   ]
  },
  {
   "cell_type": "code",
   "execution_count": 110,
   "metadata": {},
   "outputs": [
    {
     "name": "stderr",
     "output_type": "stream",
     "text": [
      "C:\\Users\\MitTal\\Anaconda3\\lib\\site-packages\\sklearn\\utils\\validation.py:761: DataConversionWarning: A column-vector y was passed when a 1d array was expected. Please change the shape of y to (n_samples, ), for example using ravel().\n",
      "  y = column_or_1d(y, warn=True)\n"
     ]
    },
    {
     "name": "stdout",
     "output_type": "stream",
     "text": [
      "accuracy for support vector machine 0.043666666666666666\n"
     ]
    }
   ],
   "source": [
    "svm_clf = SVC(gamma=\"auto\" , decision_function_shape='ovo').fit(x_train,y_train)\n",
    "svm_acc = svm_clf.score(x_test,y_test)\n",
    "print('accuracy for support vector machine' , svm_acc)"
   ]
  },
  {
   "cell_type": "code",
   "execution_count": 33,
   "metadata": {},
   "outputs": [
    {
     "name": "stdout",
     "output_type": "stream",
     "text": [
      "accuracy for support vector machine 0.04533333333333334\n"
     ]
    }
   ],
   "source": []
  },
  {
   "cell_type": "code",
   "execution_count": 13,
   "metadata": {},
   "outputs": [],
   "source": [
    "features = feature.local_binary_pattern(train_data[0] , 10, 5, method=\"default\")"
   ]
  },
  {
   "cell_type": "code",
   "execution_count": 17,
   "metadata": {},
   "outputs": [
    {
     "data": {
      "text/plain": [
       "array([[769., 769., 769., ..., 480., 480., 192.],\n",
       "       [769., 769., 769., ..., 128., 160., 224.],\n",
       "       [769., 769., 769., ..., 448., 160., 160.],\n",
       "       ...,\n",
       "       [  3.,   3.,  13., ...,  60.,  60.,  56.],\n",
       "       [  1.,   1.,   1., ...,  60.,  60.,  56.],\n",
       "       [  1.,   0.,   1., ...,  60.,  40.,  40.]])"
      ]
     },
     "execution_count": 17,
     "metadata": {},
     "output_type": "execute_result"
    }
   ],
   "source": [
    "features"
   ]
  },
  {
   "cell_type": "code",
   "execution_count": 18,
   "metadata": {},
   "outputs": [
    {
     "data": {
      "text/plain": [
       "array([[ 51,  61,  66, ...,  21,  32,  55],\n",
       "       [ 62,  70,  64, ..., 102,  78,  52],\n",
       "       [ 53,  60,  70, ...,  89,  84,  73],\n",
       "       ...,\n",
       "       [124, 142, 140, ...,  24,  28,  31],\n",
       "       [149, 154, 204, ...,  21,  24,  20],\n",
       "       [241, 254, 247, ...,  48,  54,  42]], dtype=uint8)"
      ]
     },
     "execution_count": 18,
     "metadata": {},
     "output_type": "execute_result"
    }
   ],
   "source": [
    "train_data[0]"
   ]
  }
 ],
 "metadata": {
  "kernelspec": {
   "display_name": "Python 3",
   "language": "python",
   "name": "python3"
  },
  "language_info": {
   "codemirror_mode": {
    "name": "ipython",
    "version": 3
   },
   "file_extension": ".py",
   "mimetype": "text/x-python",
   "name": "python",
   "nbconvert_exporter": "python",
   "pygments_lexer": "ipython3",
   "version": "3.7.1"
  }
 },
 "nbformat": 4,
 "nbformat_minor": 2
}
